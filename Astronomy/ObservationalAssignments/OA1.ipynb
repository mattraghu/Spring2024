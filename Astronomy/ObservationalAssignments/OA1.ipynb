{
 "cells": [
  {
   "cell_type": "code",
   "execution_count": 7,
   "metadata": {},
   "outputs": [],
   "source": [
    "from moviepy.editor import VideoFileClip, concatenate_videoclips\n",
    "\n",
    "# Load the video files\n",
    "video1 = VideoFileClip(\"/Volumes/Untitled/DCIM/100CANON/MVI_1618.MP4\")\n",
    "video2 = VideoFileClip(\"/Volumes/Untitled/DCIM/100CANON/MVI_1619.MP4\")\n",
    "\n",
    "    "
   ]
  },
  {
   "cell_type": "code",
   "execution_count": 9,
   "metadata": {},
   "outputs": [
    {
     "name": "stdout",
     "output_type": "stream",
     "text": [
      "MoviePy - Building file combined_video.gif with imageio.\n"
     ]
    },
    {
     "name": "stderr",
     "output_type": "stream",
     "text": [
      "                                                          \r"
     ]
    },
    {
     "name": "stdout",
     "output_type": "stream",
     "text": [
      "Moviepy - Writing frames frames/frame%04d.png.\n"
     ]
    },
    {
     "name": "stderr",
     "output_type": "stream",
     "text": [
      "                                                          "
     ]
    },
    {
     "name": "stdout",
     "output_type": "stream",
     "text": [
      "Moviepy - Done writing frames frames/frame%04d.png.\n"
     ]
    },
    {
     "name": "stderr",
     "output_type": "stream",
     "text": [
      "\r"
     ]
    },
    {
     "data": {
      "text/plain": [
       "['frames/frame0000.png',\n",
       " 'frames/frame0001.png',\n",
       " 'frames/frame0002.png',\n",
       " 'frames/frame0003.png',\n",
       " 'frames/frame0004.png',\n",
       " 'frames/frame0005.png',\n",
       " 'frames/frame0006.png']"
      ]
     },
     "execution_count": 9,
     "metadata": {},
     "output_type": "execute_result"
    }
   ],
   "source": [
    "# Concatenate the videos\n",
    "combined_video = concatenate_videoclips([video1, video2])\n",
    "\n",
    "# Calculate the duration of the combined video\n",
    "total_duration = combined_video.duration\n",
    "\n",
    "# Determine the number of frames for the 10-second GIF\n",
    "num_frames = 7  # Adjust this number if you want more or fewer frames\n",
    "\n",
    "# Calculate the duration of each frame\n",
    "frame_duration = total_duration / num_frames\n",
    "\n",
    "# Generate the GIF\n",
    "combined_video.write_gif(\"combined_video.gif\", fps=1/frame_duration)\n",
    "\n",
    "# export each frame as a separate image into a folder /frames\n",
    "\n",
    "combined_video.write_images_sequence(\"frames/frame%04d.png\", fps=1/frame_duration)"
   ]
  },
  {
   "cell_type": "code",
   "execution_count": null,
   "metadata": {},
   "outputs": [],
   "source": []
  }
 ],
 "metadata": {
  "kernelspec": {
   "display_name": "Python 3",
   "language": "python",
   "name": "python3"
  },
  "language_info": {
   "codemirror_mode": {
    "name": "ipython",
    "version": 3
   },
   "file_extension": ".py",
   "mimetype": "text/x-python",
   "name": "python",
   "nbconvert_exporter": "python",
   "pygments_lexer": "ipython3",
   "version": "3.11.6"
  }
 },
 "nbformat": 4,
 "nbformat_minor": 2
}
