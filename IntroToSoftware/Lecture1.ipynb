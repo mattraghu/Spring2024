{
 "cells": [
  {
   "cell_type": "code",
   "execution_count": 2,
   "metadata": {},
   "outputs": [
    {
     "name": "stdout",
     "output_type": "stream",
     "text": [
      "{}\n",
      "('John', 50000)\n",
      "('Sue', 60000)\n",
      "('Bob', 70000)\n",
      "('Jane', 55000)\n",
      "('Fred', 49000)\n",
      "[('Fred', 49000), ('John', 50000), ('Jane', 55000), ('Sue', 60000), ('Bob', 70000)]\n"
     ]
    }
   ],
   "source": [
    "# Employee name is requested by the usr as key and salary is randomly generated\n",
    "\n",
    "import random\n",
    "\n",
    "employees = {}\n",
    "# while True:\n",
    "#     name = input(\"Enter employee name: \")\n",
    "#     if name == \"quit\":\n",
    "#         break\n",
    "#     salary = random.randint(30000, 100000)\n",
    "#     employees[name] = salary\n",
    "print(employees)\n",
    "\n",
    "employees = {'John': 50000, 'Sue': 60000, 'Bob': 70000, 'Jane': 55000, 'Fred': 49000}\n",
    "\n",
    "#sort by salary\n",
    "def test(x):\n",
    "    print(x)\n",
    "    return x[1]\n",
    "\n",
    "sorted_employees = sorted(employees.items(), key=test)\n",
    "\n",
    "print(sorted_employees)"
   ]
  },
  {
   "cell_type": "code",
   "execution_count": null,
   "metadata": {},
   "outputs": [],
   "source": [
    "def factorial(n):\n",
    "    if n == 1:\n",
    "        return 1\n",
    "    return n * factorial(n-1)\n",
    "\n",
    "def e2(n):\n",
    "    return sum([1/factorial(i) for i in range(n)])"
   ]
  },
  {
   "cell_type": "code",
   "execution_count": 9,
   "metadata": {},
   "outputs": [
    {
     "data": {
      "text/plain": [
       "(63245986, 1.0013580322265625e-05, 38, 63245986, 7.01319694519043)"
      ]
     },
     "execution_count": 9,
     "metadata": {},
     "output_type": "execute_result"
    }
   ],
   "source": [
    "import time\n",
    "# Defining the first Fibonacci function as described, with a slight modification to include a basic counter\n",
    "class Counter:\n",
    "    def __init__(self):\n",
    "        self.count = 0\n",
    "    def increment(self):\n",
    "        self.count += 1\n",
    "    def get_count(self):\n",
    "        return self.count\n",
    "\n",
    "def fib_with_counter(n, counter=None):\n",
    "    theSum = 1\n",
    "    first = 0\n",
    "    second = 1\n",
    "    count = 3\n",
    "    \n",
    "    if n == 1:\n",
    "        return 0\n",
    "    else:\n",
    "        while count <= n:\n",
    "            if counter:\n",
    "                counter.increment()\n",
    "            \n",
    "            theSum = first + second\n",
    "            first = second\n",
    "            second = theSum\n",
    "            count += 1\n",
    "            \n",
    "    return theSum\n",
    "\n",
    "# Defining the second Fibonacci function as provided\n",
    "def fib_recursive(n):\n",
    "    if n == 1:\n",
    "        return 0\n",
    "    elif n == 2 or n == 3:\n",
    "        return 1\n",
    "    else:\n",
    "        return fib_recursive(n - 1) + fib_recursive(n - 2)\n",
    "\n",
    "\n",
    "# Modifying the first Fibonacci function to include runtime measurement\n",
    "def fib_with_counter_and_time(n, counter=None):\n",
    "    start_time = time.time()\n",
    "    theSum = 1\n",
    "    first = 0\n",
    "    second = 1\n",
    "    count = 3\n",
    "    \n",
    "    if n == 1:\n",
    "        end_time = time.time()\n",
    "        return 0, end_time - start_time\n",
    "    else:\n",
    "        while count <= n:\n",
    "            if counter:\n",
    "                counter.increment()\n",
    "            \n",
    "            theSum = first + second\n",
    "            first = second\n",
    "            second = theSum\n",
    "            count += 1\n",
    "            \n",
    "    end_time = time.time()\n",
    "    return theSum, end_time - start_time\n",
    "\n",
    "# Modifying the second Fibonacci function to include runtime measurement\n",
    "def fib_recursive_and_time(n):\n",
    "    start_time = time.time()\n",
    "    result = fib_recursive(n)  # Reusing the previously defined fib_recursive function\n",
    "    end_time = time.time()\n",
    "    return result, end_time - start_time\n",
    "\n",
    "# Running both functions with runtime measurement\n",
    "n = 40\n",
    "couknter = Counter()\n",
    "fib_with_counter_result, fib_with_counter_time = fib_with_counter_and_time(n, counter)\n",
    "fib_recursive_result, fib_recursive_time = fib_recursive_and_time(n)\n",
    "\n",
    "fib_with_counter_result, fib_with_counter_time, counter.get_count(), fib_recursive_result, fib_recursive_time\n",
    "\n"
   ]
  },
  {
   "cell_type": "code",
   "execution_count": 10,
   "metadata": {},
   "outputs": [
    {
     "name": "stdout",
     "output_type": "stream",
     "text": [
      "(1, 3, 4)\n"
     ]
    }
   ],
   "source": [
    "import numpy as np\n",
    "\n",
    "#Create x 5 to 20 space by 2\n",
    "\n",
    "x = np.arange(5, 21, 2)\n",
    "\n",
    "# y = 0 0 0 6 0 0 0 0 0 9 0 0 0 12 0 24 0 0 0 0 \n",
    "y = np.array([0, 0, 0, 6, 0, 0, 0, 0, 0, 9, 0, 0, 0, 12, 0, 24, 0, 0, 0, 0])\n",
    "\n",
    "# z = cos x\n",
    "z = np.cos(x)\n",
    "\n",
    "# r = y+10\n",
    "r = y + 10\n",
    "\n",
    "# print dim of matrix u (1,3,2,4),(7,9,2,1),(3,9,1,6)\n",
    "u = np.array([[[1,3,2,4],[7,9,2,1],[3,9,1,6]]])\n",
    "print(u.shape)"
   ]
  },
  {
   "cell_type": "code",
   "execution_count": null,
   "metadata": {},
   "outputs": [],
   "source": [
    "# 7 by 5 matrix A elements are random\n",
    "# 5 by 2 B random\n",
    "# C = prod of a and b\n",
    "A = np.random.rand(7,5)\n",
    "B = np.random.rand(5,2)\n",
    "C = np.dot(A,B)\n",
    "print(C)\n",
    "\n",
    "# solve system of equation\n",
    "# x + y + z = 6\n",
    "# 2y + 5z = -4\n",
    "# 2x + 5y - z = 27\n",
    "# A = np.array([[1,1,1],[0,2,5],[2,5,-1]])\n",
    "# B = np.array([6,-4,27])\n",
    "# X = np.linalg.solve(A,B)\n",
    "\n",
    "# 1 1 -2 1 3 -1 = 4 \n",
    "# 2 -1 1 2 1 -3 = 20\n",
    "# 1 3 -3 -1 2 1 = -15\n",
    "# 5 2 -1 -1 2 1 = -3\n"
   ]
  }
 ],
 "metadata": {
  "kernelspec": {
   "display_name": "Python 3",
   "language": "python",
   "name": "python3"
  },
  "language_info": {
   "codemirror_mode": {
    "name": "ipython",
    "version": 3
   },
   "file_extension": ".py",
   "mimetype": "text/x-python",
   "name": "python",
   "nbconvert_exporter": "python",
   "pygments_lexer": "ipython3",
   "version": "3.undefined.undefined"
  }
 },
 "nbformat": 4,
 "nbformat_minor": 2
}
