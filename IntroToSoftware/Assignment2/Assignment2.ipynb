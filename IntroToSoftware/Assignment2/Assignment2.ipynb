{
 "cells": [
  {
   "cell_type": "code",
   "execution_count": 1,
   "metadata": {},
   "outputs": [
    {
     "name": "stdout",
     "output_type": "stream",
     "text": [
      "0\n",
      "1\n",
      "1\n",
      "2\n"
     ]
    }
   ],
   "source": [
    "#Write a program to display the Fibonacci sequence up to n-th term. The program should prompt the user for the number of terms. Note that a Fibonacci sequence is the integer sequence of 0, 1, 1, 2, 3, 5, 8.... The first two terms are 0 and 1. All other terms are obtained by adding the preceding two terms.\n",
    "\n",
    "a = 0\n",
    "b = 1\n",
    "\n",
    "n = int(input(\"Enter the number of terms: \"))\n",
    "print(a)\n",
    "\n",
    "for i in range(1, n):\n",
    "    print(b)\n",
    "    a, b = b, a + b"
   ]
  },
  {
   "cell_type": "code",
   "execution_count": 4,
   "metadata": {},
   "outputs": [
    {
     "name": "stdout",
     "output_type": "stream",
     "text": [
      "         Name  Hourly Wage  Hours Worked  Wages Paid\n",
      "0     Lambert           34         10.50       357.0\n",
      "1     Osborne           22          6.25       137.5\n",
      "2  Giacometti            5        100.70       503.5\n",
      "3       Nancy           30         15.00       450.0\n",
      "4        Jeff           40         20.50       820.0\n",
      "5         Sam           25         50.00      1250.0\n"
     ]
    }
   ],
   "source": [
    "# The payroll department keeps a list of employee information for each pay period in a text file named payroll.txt. The format of each line of the file is as follows: < name > < hourlywage > < hoursworked > Write a program that inputs the filename: payroll.txt from the user and prints to the terminal a report of the wages paid to the employees for the given period. The report should be in tabular format with the appropriate header. Each line should contain an employee’s name, the hours worked, and the wages paid for that period. You can find payroll.txt in Assignment #2 on Canvas\n",
    "\n",
    "import pandas as pd\n",
    "\n",
    "df = pd.read_csv('payroll.txt', sep = ' ', header = None)\n",
    "df.columns = ['Name', 'Hourly Wage', 'Hours Worked']\n",
    "df['Wages Paid'] = df['Hourly Wage'] * df['Hours Worked']\n",
    "print(df)\n"
   ]
  },
  {
   "cell_type": "code",
   "execution_count": 6,
   "metadata": {},
   "outputs": [],
   "source": [
    "# Write a program that prompts the user for the names of two text files including: myfile1.txt and myfile2.txt. The contents of the first file, myfile1.txt, should be input and written to the second file, myfile2.txt. You can find myfile1.txt in Assignment #2 on Canvas.\n",
    "\n",
    "with open(\"myfile1.txt\", 'r') as f:\n",
    "    data = f.read()\n",
    "    with open('myfile2.txt', 'w') as f:\n",
    "        f.write(data)\n"
   ]
  },
  {
   "cell_type": "code",
   "execution_count": 9,
   "metadata": {},
   "outputs": [
    {
     "name": "stdout",
     "output_type": "stream",
     "text": [
      "343\n",
      "343\n"
     ]
    }
   ],
   "source": [
    "# Python’s pow function returns the result of raising a number to a given power. Define a function expo that performs this task. The first argument of this function is the number, and the second argument is the exponent (non-negative numbers only). Implement this problem in two ways including (i) a loop and (ii) a recursive function. CAUTION: do not use Python’s ** operator or pow function in this exercise!\n",
    "\n",
    "def expo(n, e):\n",
    "    result = 1\n",
    "    for i in range(e):\n",
    "        result *= n\n",
    "    return result\n",
    "\n",
    "print(expo(7, 3))\n",
    "\n",
    "def expo(n, e):\n",
    "    if e == 0:\n",
    "        return 1\n",
    "    else:\n",
    "        return n * expo(n, e - 1)\n",
    "    \n",
    "print(expo(7, 3))"
   ]
  }
 ],
 "metadata": {
  "kernelspec": {
   "display_name": "Python 3",
   "language": "python",
   "name": "python3"
  },
  "language_info": {
   "codemirror_mode": {
    "name": "ipython",
    "version": 3
   },
   "file_extension": ".py",
   "mimetype": "text/x-python",
   "name": "python",
   "nbconvert_exporter": "python",
   "pygments_lexer": "ipython3",
   "version": "3.11.6"
  }
 },
 "nbformat": 4,
 "nbformat_minor": 2
}
