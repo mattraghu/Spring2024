{
 "cells": [
  {
   "cell_type": "code",
   "execution_count": 3,
   "metadata": {},
   "outputs": [],
   "source": [
    "from PIL import Image, ImageSequence\n",
    "\n",
    "\n",
    "def resize_gif(input_path, output_path, scale_factor):\n",
    "    with Image.open(input_path) as im:\n",
    "        frames = [frame.copy() for i, frame in enumerate(ImageSequence.Iterator(im)) if i % 3 == 0]\n",
    "        resized_frames = [\n",
    "            frame.resize(\n",
    "                (int(frame.width * scale_factor), int(frame.height * scale_factor)),\n",
    "                Image.LANCZOS\n",
    "            ) for frame in frames\n",
    "        ]\n",
    "\n",
    "        # Save the resized frames as a new GIF\n",
    "        resized_frames[0].save(\n",
    "            output_path,\n",
    "            save_all=True,\n",
    "            append_images=resized_frames[1:],\n",
    "            loop=0,\n",
    "            duration=int(im.info['duration'] / 2),  # Update the duration\n",
    "            disposal=2\n",
    "        )\n",
    "\n",
    "# Example usage\n",
    "input_gif = \"/Users/mattraghu/Downloads/IMG_2834.gif\"\n",
    "output_gif = \"ohtput.gif\"\n",
    "scale_factor = 0.2  # Resize to 50% of the original size\n",
    "resize_gif(input_gif, output_gif, scale_factor)\n"
   ]
  },
  {
   "cell_type": "code",
   "execution_count": null,
   "metadata": {},
   "outputs": [],
   "source": []
  }
 ],
 "metadata": {
  "kernelspec": {
   "display_name": ".venv",
   "language": "python",
   "name": "python3"
  },
  "language_info": {
   "codemirror_mode": {
    "name": "ipython",
    "version": 3
   },
   "file_extension": ".py",
   "mimetype": "text/x-python",
   "name": "python",
   "nbconvert_exporter": "python",
   "pygments_lexer": "ipython3",
   "version": "3.11.9"
  }
 },
 "nbformat": 4,
 "nbformat_minor": 2
}
