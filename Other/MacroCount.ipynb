{
 "cells": [
  {
   "cell_type": "code",
   "execution_count": 5,
   "metadata": {},
   "outputs": [
    {
     "name": "stdout",
     "output_type": "stream",
     "text": [
      "aa\n",
      "{'Chicken Salad': {'Protein': 30, 'Carbs': 10, 'Fats': 15, 'Calories': 350}}\n"
     ]
    },
    {
     "name": "stderr",
     "output_type": "stream",
     "text": [
      "Exception in Tkinter callback\n",
      "Traceback (most recent call last):\n",
      "  File \"/opt/homebrew/Cellar/python@3.11/3.11.6_1/Frameworks/Python.framework/Versions/3.11/lib/python3.11/tkinter/__init__.py\", line 1948, in __call__\n",
      "    return self.func(*args)\n",
      "           ^^^^^^^^^^^^^^^^\n",
      "  File \"/Users/mattraghu/Documents/Projects/Spring2024/Other/search_filter.py\", line 32, in search\n",
      "    self.on_search(self.search_entry.get())\n",
      "  File \"/var/folders/lq/8dq9nc0x3xv1j6hzt_zbrbhh0000gn/T/ipykernel_6242/4219881933.py\", line 39, in perform_search\n",
      "    self.search_filter_frame.update_search_results(results)\n",
      "    ^^^^^^^^^^^^^^^^^^^^^^^^^^^^^^^^^^^^^^^^^^^^^^\n",
      "AttributeError: 'SearchFilterFrame' object has no attribute 'update_search_results'\n"
     ]
    }
   ],
   "source": [
    "import tkinter as tk\n",
    "from login import submit_number  # Assuming login.py exists with a function to handle login submission\n",
    "from search_filter import SearchFilterFrame  # Assuming search_filter.py exists with the SearchFilterFrame class\n",
    "# from macro_count import MacroCountFrame  # Assuming macro_count.py exists with the MacroCountFrame class\n",
    "from data_manager import DataManager  # Assuming data_manager.py exists managing data\n",
    "\n",
    "class MacroCounterApp(tk.Tk):\n",
    "    def __init__(self):\n",
    "        super().__init__()\n",
    "        self.title(\"EASY MACROS\")\n",
    "        self.geometry(\"800x600\")  # Adjust the size as needed for your design\n",
    "        \n",
    "        # Initialize the data manager\n",
    "        self.data_manager = DataManager()\n",
    "\n",
    "        # Create the login frame (for the example, we'll skip straight to search/filter)\n",
    "        # self.login_frame = LoginFrame(self, on_login_success=self.show_search_filter)\n",
    "        # self.login_frame.pack(fill='both', expand=True)\n",
    "\n",
    "        # Create the search filter frame\n",
    "        self.search_filter_frame = SearchFilterFrame(self, on_search=self.perform_search, on_filter_change=self.apply_filters)\n",
    "        self.search_filter_frame.pack(fill='both', expand=True)\n",
    "\n",
    "        # Create the macro count frame (hidden for now)\n",
    "        # self.macro_count_frame = MacroCountFrame(self)\n",
    "        # self.macro_count_frame.pack(fill='both', expand=True)\n",
    "        # self.macro_count_frame.hide()\n",
    "\n",
    "    # Function to show the search filter screen\n",
    "    def show_search_filter(self):\n",
    "        self.login_frame.pack_forget()\n",
    "        self.search_filter_frame.pack(fill='both', expand=True)\n",
    "\n",
    "    # Function to handle searches from the search filter frame\n",
    "    def perform_search(self, query):\n",
    "        results = self.data_manager.search_recipes(query)\n",
    "        self.search_filter_frame.update_search_results(results)\n",
    "        pass\n",
    "\n",
    "    # Function to apply filters from the search filter frame\n",
    "    def apply_filters(self, filters):\n",
    "        filtered_results = self.data_manager.filter_recipes(filters)\n",
    "        self.search_filter_frame.update_search_results(filtered_results)\n",
    "        pass\n",
    "\n",
    "    # Function to show the macro count screen\n",
    "    # def show_macro_count(self):\n",
    "        # self.search_filter_frame.pack_forget()\n",
    "        # self.macro_count_frame.show()\n",
    "\n",
    "if __name__ == \"__main__\":\n",
    "    app = MacroCounterApp()\n",
    "    app.mainloop()\n",
    "\n"
   ]
  },
  {
   "cell_type": "code",
   "execution_count": null,
   "metadata": {},
   "outputs": [],
   "source": []
  }
 ],
 "metadata": {
  "kernelspec": {
   "display_name": "Python 3",
   "language": "python",
   "name": "python3"
  },
  "language_info": {
   "codemirror_mode": {
    "name": "ipython",
    "version": 3
   },
   "file_extension": ".py",
   "mimetype": "text/x-python",
   "name": "python",
   "nbconvert_exporter": "python",
   "pygments_lexer": "ipython3",
   "version": "3.11.6"
  }
 },
 "nbformat": 4,
 "nbformat_minor": 2
}
